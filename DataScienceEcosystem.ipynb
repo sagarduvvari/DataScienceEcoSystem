{
 "cells": [
  {
   "cell_type": "markdown",
   "id": "f24f10e9-7140-482e-8056-550723a01567",
   "metadata": {},
   "source": [
    "# Data Science Tools and Ecosystem"
   ]
  },
  {
   "cell_type": "markdown",
   "id": "181a1a3f-5f4f-49ec-9325-b2bc42596ada",
   "metadata": {},
   "source": [
    "### In this notebook, Data Science Tools and Ecosystem are summarized."
   ]
  },
  {
   "cell_type": "markdown",
   "id": "603a8884-951c-4526-aced-e7907577523d",
   "metadata": {},
   "source": [
    "# Data Science Tools and Ecosystem"
   ]
  },
  {
   "cell_type": "markdown",
   "id": "189a01b2-a5db-401a-adb8-d3b33d323b9f",
   "metadata": {},
   "source": [
    "## In this notebook, Data Science Tools and Ecosystem are summarized."
   ]
  },
  {
   "cell_type": "markdown",
   "id": "42af1ba7-3c09-4418-824f-b8b662485632",
   "metadata": {},
   "source": [
    "Some of the popular languages that Data Scientists use are:\n",
    "\n",
    "1. **Python** \n",
    "2. **R** \n",
    "3. **SQL**"
   ]
  },
  {
   "cell_type": "markdown",
   "id": "ae04aca1-3caf-46a8-8fda-62ba23cc9a24",
   "metadata": {},
   "source": [
    "Some of the commonly used libraries used by Data Scientists include:\n",
    "\n",
    "1. **NumPy**\n",
    "2. **Pandas**\n",
    "3. **Matplotlib**\n",
    "4. **Scikit-learn**"
   ]
  },
  {
   "cell_type": "markdown",
   "id": "818b83ec-0187-46fe-887a-a63675244c1c",
   "metadata": {},
   "source": [
    "| Data Science Tools |\n",
    "|---------------------|\n",
    "| Jupyter Notebook    |\n",
    "| RStudio            |\n",
    "| Apache Zeppelin     |"
   ]
  },
  {
   "cell_type": "markdown",
   "id": "020c3697-1389-419e-93c7-4c8daa1e88eb",
   "metadata": {},
   "source": [
    "### Below are a few examples of evaluating arithmetic expressions in Python."
   ]
  },
  {
   "cell_type": "code",
   "execution_count": 8,
   "id": "8d0e627b-82c9-45ec-8faf-f889c2d47d13",
   "metadata": {},
   "outputs": [
    {
     "data": {
      "text/plain": [
       "17"
      ]
     },
     "execution_count": 8,
     "metadata": {},
     "output_type": "execute_result"
    }
   ],
   "source": [
    "# This is a simple arithmetic expression to multiply then add integers\n",
    "(3 * 4) + 5"
   ]
  },
  {
   "cell_type": "code",
   "execution_count": 9,
   "id": "b8ab44e6-51f0-4e56-9faa-e8150c598f71",
   "metadata": {},
   "outputs": [
    {
     "data": {
      "text/plain": [
       "3.3333333333333335"
      ]
     },
     "execution_count": 9,
     "metadata": {},
     "output_type": "execute_result"
    }
   ],
   "source": [
    "# This will convert 200 minutes to hours by dividing by 60\n",
    "200 / 60"
   ]
  },
  {
   "cell_type": "markdown",
   "id": "b270ba8b-5f8a-4f55-92f8-16e5795b90fd",
   "metadata": {},
   "source": [
    "**Objectives:**\n",
    "\n",
    "- List popular languages for Data Science.\n",
    "- Identify commonly used libraries in Data Science.\n",
    "- Describe open-source development tools used in Data Science.\n",
    "- Perform simple arithmetic expressions in Python.\n",
    "- Convert minutes into hours using Python."
   ]
  },
  {
   "cell_type": "markdown",
   "id": "ad5a19f0-7df3-4268-959a-163b18da845a",
   "metadata": {},
   "source": [
    "## Author\n",
    "Sagar"
   ]
  },
  {
   "cell_type": "code",
   "execution_count": null,
   "id": "5dd74b73-e836-44a3-a691-344543f9ae37",
   "metadata": {},
   "outputs": [],
   "source": []
  }
 ],
 "metadata": {
  "kernelspec": {
   "display_name": "Python 3 (ipykernel)",
   "language": "python",
   "name": "python3"
  },
  "language_info": {
   "codemirror_mode": {
    "name": "ipython",
    "version": 3
   },
   "file_extension": ".py",
   "mimetype": "text/x-python",
   "name": "python",
   "nbconvert_exporter": "python",
   "pygments_lexer": "ipython3",
   "version": "3.12.8"
  }
 },
 "nbformat": 4,
 "nbformat_minor": 5
}
